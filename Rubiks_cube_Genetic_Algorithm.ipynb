{
 "cells": [
  {
   "cell_type": "markdown",
   "metadata": {},
   "source": [
    "# Importing Required Elements Here"
   ]
  },
  {
   "cell_type": "code",
   "execution_count": 1,
   "metadata": {},
   "outputs": [],
   "source": [
    "import numpy as np"
   ]
  },
  {
   "cell_type": "code",
   "execution_count": 2,
   "metadata": {},
   "outputs": [
    {
     "name": "stdout",
     "output_type": "stream",
     "text": [
      "[[['y' 'y' 'y']\n",
      "  ['y' 'y' 'y']\n",
      "  ['y' 'y' 'y']]\n",
      "\n",
      " [['o' 'o' 'o']\n",
      "  ['o' 'o' 'o']\n",
      "  ['o' 'o' 'o']]\n",
      "\n",
      " [['w' 'w' 'w']\n",
      "  ['w' 'w' 'w']\n",
      "  ['w' 'w' 'w']]\n",
      "\n",
      " [['r' 'r' 'r']\n",
      "  ['r' 'r' 'r']\n",
      "  ['r' 'r' 'r']]\n",
      "\n",
      " [['b' 'b' 'b']\n",
      "  ['b' 'b' 'b']\n",
      "  ['b' 'b' 'b']]\n",
      "\n",
      " [['0' '1' '2']\n",
      "  ['3' 'g' '4']\n",
      "  ['5' '6' '7']]]\n"
     ]
    }
   ],
   "source": [
    "top = np.array([np.array(['y','y','y']),np.array(['y','y','y']),np.array(['y','y','y'])])\n",
    "bottom = np.array([np.array(['w','w','w']),np.array(['w','w','w']),np.array(['w','w','w'])])\n",
    "front =np.array([np.array(['o','o','o']),np.array(['o','o','o']),np.array(['o','o','o'])])\n",
    "back=np.array([np.array(['r','r','r']),np.array(['r','r','r']),np.array(['r','r','r'])])\n",
    "left=np.array([np.array(['b','b','b']),np.array(['b','b','b']),np.array(['b','b','b'])])\n",
    "right =np.array([np.array(['0','1','2']),np.array(['3','g','4']),np.array(['5','6','7'])])\n",
    "\n",
    "cubee = np.array([top,front,bottom,back,left,right])\n",
    "print(cubee)"
   ]
  },
  {
   "cell_type": "code",
   "execution_count": 5,
   "metadata": {},
   "outputs": [
    {
     "name": "stdout",
     "output_type": "stream",
     "text": [
      "2\n",
      "4\n",
      "2\n",
      "[[['y' 'y' 'o']\n",
      "  ['y' 'y' 'o']\n",
      "  ['y' 'y' 'o']]\n",
      "\n",
      " [['o' 'o' 'w']\n",
      "  ['o' 'o' 'w']\n",
      "  ['o' 'o' 'w']]\n",
      "\n",
      " [['w' 'w' 'r']\n",
      "  ['w' 'w' 'r']\n",
      "  ['w' 'w' 'r']]\n",
      "\n",
      " [['r' 'r' 'y']\n",
      "  ['r' 'r' 'y']\n",
      "  ['r' 'r' 'y']]\n",
      "\n",
      " [['b' 'b' 'b']\n",
      "  ['b' 'b' 'b']\n",
      "  ['b' 'b' 'b']]\n",
      "\n",
      " [['5' '3' '0']\n",
      "  ['6' 'g' '1']\n",
      "  ['2' '4' '0']]]\n"
     ]
    }
   ],
   "source": [
    "def right_Up(cubee):\n",
    "    updatedCubee  =np.copy(cubee)\n",
    "    tempVal = []\n",
    "    for i in range(3):\n",
    "        tempVal = updatedCubee[0][i][2]\n",
    "        updatedCubee[0][i][2] = updatedCubee[1][i][2]\n",
    "        updatedCubee[1][i][2] = updatedCubee[2][i][2]\n",
    "        updatedCubee[2][i][2] = updatedCubee[3][i][2]\n",
    "        updatedCubee[3][i][2] = tempVal\n",
    "        tempVal = updatedCubee[5][i][2]\n",
    "        print(tempVal)\n",
    "        updatedCubee[5][i][2] = updatedCubee[5][0][i]\n",
    "        if i != 2:\n",
    "            updatedCubee[5][0][i] = updatedCubee[5][i][0]\n",
    "            updatedCubee[5][i][0] = updatedCubee[5][2][i]\n",
    "        updatedCubee[5][2][2-i] = tempVal\n",
    "    return updatedCubee\n",
    "print(right_Up(cubee))\n",
    "def right_Down(cubee):\n",
    "    updatedCubee  =np.copy(cubee)\n",
    "    tempVal = []\n",
    "    for i in range(3):\n",
    "        tempVal = updatedCubee[0][i][2]\n",
    "        updatedCubee[0][i][2] = updatedCubee[3][i][2]\n",
    "        updatedCubee[3][i][2] = updatedCubee[2][i][2]\n",
    "        updatedCubee[2][i][2] = updatedCubee[1][i][2]\n",
    "        updatedCubee[1][i][2] = tempVal\n",
    "        tempVal = updatedCubee[5][i][2]\n",
    "        updatedCubee[5][i][2] = updatedCubee[5][2][i]\n",
    "        print(updatedCubee[5][2][i])\n",
    "        if i != 2:\n",
    "            updatedCubee[5][2][i] = updatedCubee[5][i][0]\n",
    "            updatedCubee[5][i][0] = updatedCubee[5][0][i]\n",
    "        #updatedCubee[5][0][i] = tempVal\n",
    "    return updatedCubee\n"
   ]
  },
  {
   "cell_type": "code",
   "execution_count": null,
   "metadata": {},
   "outputs": [],
   "source": []
  }
 ],
 "metadata": {
  "kernelspec": {
   "display_name": "Python 3",
   "language": "python",
   "name": "python3"
  },
  "language_info": {
   "codemirror_mode": {
    "name": "ipython",
    "version": 3
   },
   "file_extension": ".py",
   "mimetype": "text/x-python",
   "name": "python",
   "nbconvert_exporter": "python",
   "pygments_lexer": "ipython3",
   "version": "3.7.4"
  }
 },
 "nbformat": 4,
 "nbformat_minor": 2
}
